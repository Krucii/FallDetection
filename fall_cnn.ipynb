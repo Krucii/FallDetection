{
 "cells": [
  {
   "cell_type": "code",
   "id": "initial_id",
   "metadata": {
    "collapsed": true,
    "ExecuteTime": {
     "end_time": "2024-06-16T23:51:02.644581Z",
     "start_time": "2024-06-16T23:51:02.641398Z"
    }
   },
   "source": [
    "from util import ds\n",
    "import torch\n",
    "from torch import nn\n",
    "import torch.optim as optim\n",
    "from torch.utils.data import DataLoader, TensorDataset\n",
    "import numpy as np\n",
    "import seaborn as sns\n",
    "import os\n",
    "from sklearn.metrics import confusion_matrix\n",
    "import matplotlib.pyplot as plt"
   ],
   "outputs": [],
   "execution_count": 28
  },
  {
   "metadata": {
    "ExecuteTime": {
     "end_time": "2024-06-16T23:22:07.880981Z",
     "start_time": "2024-06-16T23:22:07.842661Z"
    }
   },
   "cell_type": "code",
   "source": "device = torch.device(\"cuda\" if torch.cuda.is_available() else \"cpu\")",
   "id": "1d533b6966884f5f",
   "outputs": [],
   "execution_count": 3
  },
  {
   "metadata": {
    "ExecuteTime": {
     "end_time": "2024-06-16T23:22:17.219448Z",
     "start_time": "2024-06-16T23:22:07.881987Z"
    }
   },
   "cell_type": "code",
   "source": [
    "images_path = 'fall-detection.dataset/train/images'\n",
    "labels_path = 'fall-detection.dataset/train/labels'\n",
    "\n",
    "X_train, y_train = ds.load_dataset(images_path, labels_path)\n",
    "\n",
    "images_path_val = 'fall-detection.dataset/valid/images'\n",
    "labels_path_val = 'fall-detection.dataset/valid/labels'\n",
    "\n",
    "X_val, y_val = ds.load_dataset(images_path_val, labels_path_val)"
   ],
   "id": "a0de34fce23c0f9a",
   "outputs": [
    {
     "name": "stdout",
     "output_type": "stream",
     "text": [
      "Total images loaded: 1263\n",
      "Total labels loaded: 1263\n",
      "Total images loaded: 240\n",
      "Total labels loaded: 240\n"
     ]
    }
   ],
   "execution_count": 4
  },
  {
   "metadata": {
    "ExecuteTime": {
     "end_time": "2024-06-16T23:22:20.379065Z",
     "start_time": "2024-06-16T23:22:17.220452Z"
    }
   },
   "cell_type": "code",
   "source": [
    "X_train_tensor = torch.tensor(np.array(X_train), dtype=torch.float32).permute(0, 3, 1, 2).to(device)\n",
    "X_val_tensor = torch.tensor(np.array(X_val), dtype=torch.float32).permute(0, 3, 1, 2).to(device)\n",
    "y_train_tensor = torch.tensor(np.array(y_train), dtype=torch.long).to(device)\n",
    "y_val_tensor = torch.tensor(np.array(y_val), dtype=torch.long).to(device)\n",
    "\n",
    "train_dataset = TensorDataset(X_train_tensor, y_train_tensor)\n",
    "val_dataset = TensorDataset(X_val_tensor, y_val_tensor)\n",
    "\n",
    "train_loader = DataLoader(train_dataset, batch_size=4, shuffle=True)\n",
    "val_loader = DataLoader(val_dataset, batch_size=4, shuffle=False)"
   ],
   "id": "c976e78dbe79ce5",
   "outputs": [],
   "execution_count": 5
  },
  {
   "metadata": {
    "ExecuteTime": {
     "end_time": "2024-06-16T23:22:22.151535Z",
     "start_time": "2024-06-16T23:22:20.382071Z"
    }
   },
   "cell_type": "code",
   "source": [
    "class FallDetectionModel(nn.Module):\n",
    "    def __init__(self):\n",
    "        super(FallDetectionModel, self).__init__()\n",
    "        self.conv1 = nn.Conv2d(in_channels=3, out_channels=32, kernel_size=3)\n",
    "        self.pool = nn.MaxPool2d(kernel_size=2, stride=2)\n",
    "        self.conv2 = nn.Conv2d(in_channels=32, out_channels=64, kernel_size=3)\n",
    "        self.flatten = nn.Flatten()\n",
    "        self.fc1 = nn.Linear(624*624, 256)\n",
    "        self.fc2 = nn.Linear(256, 512)\n",
    "        self.fc3 = nn.Linear(512, 6)\n",
    "\n",
    "    def forward(self, x):\n",
    "        x = torch.relu(self.conv1(x))\n",
    "        x = self.pool(x)\n",
    "        x = torch.relu(self.conv2(x))\n",
    "        x = self.pool(x)\n",
    "        x = self.flatten(x)\n",
    "        x = torch.relu(self.fc1(x))\n",
    "        x = torch.relu(self.fc2(x))\n",
    "        x = torch.relu(self.fc3(x))\n",
    "        return x\n",
    "\n",
    "model = FallDetectionModel()\n",
    "\n",
    "model.to(device)\n",
    "\n",
    "criterion = nn.CrossEntropyLoss()\n",
    "optimizer = optim.SGD(model.parameters(), lr=0.001)"
   ],
   "id": "983878bc653210fb",
   "outputs": [],
   "execution_count": 6
  },
  {
   "metadata": {
    "ExecuteTime": {
     "end_time": "2024-06-16T23:31:19.271321Z",
     "start_time": "2024-06-16T23:22:22.152541Z"
    }
   },
   "cell_type": "code",
   "source": [
    "for epoch in range(100):\n",
    "    model.train()\n",
    "    running_loss = 0.0\n",
    "    for inputs, labels in train_loader:\n",
    "        optimizer.zero_grad()\n",
    "        outputs = model(inputs)\n",
    "        loss = criterion(outputs, labels)\n",
    "        loss.backward()\n",
    "        optimizer.step()\n",
    "        running_loss += loss.item()\n",
    "    print(\"Epoch: {}, Loss: {}\".format(epoch+1, running_loss))\n",
    "    \n",
    "torch.save(model.state_dict(), 'fall_detection_model.pth')"
   ],
   "id": "326c465ace7d6ed4",
   "outputs": [
    {
     "name": "stderr",
     "output_type": "stream",
     "text": [
      "C:\\Users\\remig\\PycharmProjects\\FallDetection\\.venv\\Lib\\site-packages\\torch\\nn\\modules\\conv.py:456: UserWarning: Plan failed with a cudnnException: CUDNN_BACKEND_EXECUTION_PLAN_DESCRIPTOR: cudnnFinalize Descriptor Failed cudnn_status: CUDNN_STATUS_NOT_SUPPORTED (Triggered internally at ..\\aten\\src\\ATen\\native\\cudnn\\Conv_v8.cpp:919.)\n",
      "  return F.conv2d(input, weight, bias, self.stride,\n"
     ]
    },
    {
     "name": "stdout",
     "output_type": "stream",
     "text": [
      "Epoch: 1, Loss: 566.2555562257767\n",
      "Epoch: 2, Loss: 566.19739818573\n",
      "Epoch: 3, Loss: 566.1941903829575\n",
      "Epoch: 4, Loss: 566.1859565973282\n",
      "Epoch: 5, Loss: 566.1776777505875\n",
      "Epoch: 6, Loss: 566.1649795770645\n",
      "Epoch: 7, Loss: 566.1464383602142\n",
      "Epoch: 8, Loss: 566.1228460073471\n",
      "Epoch: 9, Loss: 566.1104035377502\n",
      "Epoch: 10, Loss: 566.1019111871719\n",
      "Epoch: 11, Loss: 566.0727337598801\n",
      "Epoch: 12, Loss: 566.055924654007\n",
      "Epoch: 13, Loss: 566.031212925911\n",
      "Epoch: 14, Loss: 565.9999049901962\n",
      "Epoch: 15, Loss: 565.9820034503937\n",
      "Epoch: 16, Loss: 565.9377304315567\n",
      "Epoch: 17, Loss: 565.9006404876709\n",
      "Epoch: 18, Loss: 565.8587507009506\n",
      "Epoch: 19, Loss: 565.8079853057861\n",
      "Epoch: 20, Loss: 565.757425069809\n",
      "Epoch: 21, Loss: 565.7259097099304\n",
      "Epoch: 22, Loss: 565.6541857719421\n",
      "Epoch: 23, Loss: 565.5970151424408\n",
      "Epoch: 24, Loss: 565.5531471967697\n",
      "Epoch: 25, Loss: 565.4743404388428\n",
      "Epoch: 26, Loss: 565.4367599487305\n",
      "Epoch: 27, Loss: 565.3192487955093\n",
      "Epoch: 28, Loss: 565.2193063497543\n",
      "Epoch: 29, Loss: 565.1677337884903\n",
      "Epoch: 30, Loss: 565.055505156517\n",
      "Epoch: 31, Loss: 564.8973816633224\n",
      "Epoch: 32, Loss: 564.7806253433228\n",
      "Epoch: 33, Loss: 564.6200702190399\n",
      "Epoch: 34, Loss: 564.4504818916321\n",
      "Epoch: 35, Loss: 564.2145400047302\n",
      "Epoch: 36, Loss: 564.0410321950912\n",
      "Epoch: 37, Loss: 563.8853098154068\n",
      "Epoch: 38, Loss: 563.4840743541718\n",
      "Epoch: 39, Loss: 563.0247505903244\n",
      "Epoch: 40, Loss: 562.8518179655075\n",
      "Epoch: 41, Loss: 562.5253260135651\n",
      "Epoch: 42, Loss: 562.1512637138367\n",
      "Epoch: 43, Loss: 561.7069779634476\n",
      "Epoch: 44, Loss: 560.9485189914703\n",
      "Epoch: 45, Loss: 560.4747953414917\n",
      "Epoch: 46, Loss: 560.0700442790985\n",
      "Epoch: 47, Loss: 559.4633394479752\n",
      "Epoch: 48, Loss: 559.1188586950302\n",
      "Epoch: 49, Loss: 558.5864282846451\n",
      "Epoch: 50, Loss: 558.281490445137\n",
      "Epoch: 51, Loss: 558.1708228588104\n",
      "Epoch: 52, Loss: 557.2917531728745\n",
      "Epoch: 53, Loss: 556.4936438798904\n",
      "Epoch: 54, Loss: 557.6793979406357\n",
      "Epoch: 55, Loss: 556.3020172119141\n",
      "Epoch: 56, Loss: 555.7088519334793\n",
      "Epoch: 57, Loss: 555.7008996009827\n",
      "Epoch: 58, Loss: 556.1629425287247\n",
      "Epoch: 59, Loss: 554.6725975871086\n",
      "Epoch: 60, Loss: 554.188548386097\n",
      "Epoch: 61, Loss: 553.6900616288185\n",
      "Epoch: 62, Loss: 553.5764057636261\n",
      "Epoch: 63, Loss: 553.7258867025375\n",
      "Epoch: 64, Loss: 553.2896491289139\n",
      "Epoch: 65, Loss: 553.0594725608826\n",
      "Epoch: 66, Loss: 553.5326853990555\n",
      "Epoch: 67, Loss: 552.8908083438873\n",
      "Epoch: 68, Loss: 552.5666742324829\n",
      "Epoch: 69, Loss: 552.7576739192009\n",
      "Epoch: 70, Loss: 552.1797614097595\n",
      "Epoch: 71, Loss: 553.4492524862289\n",
      "Epoch: 72, Loss: 552.1959712505341\n",
      "Epoch: 73, Loss: 550.8545942306519\n",
      "Epoch: 74, Loss: 551.4982743859291\n",
      "Epoch: 75, Loss: 550.269835293293\n",
      "Epoch: 76, Loss: 550.7791458368301\n",
      "Epoch: 77, Loss: 551.5122730135918\n",
      "Epoch: 78, Loss: 551.3851531744003\n",
      "Epoch: 79, Loss: 516.592019200325\n",
      "Epoch: 80, Loss: 459.99625766277313\n",
      "Epoch: 81, Loss: 453.905172765255\n",
      "Epoch: 82, Loss: 367.5137515962124\n",
      "Epoch: 83, Loss: 338.5772937685251\n",
      "Epoch: 84, Loss: 321.6726258173585\n",
      "Epoch: 85, Loss: 298.0625400990248\n",
      "Epoch: 86, Loss: 289.57007579505444\n",
      "Epoch: 87, Loss: 267.51564260572195\n",
      "Epoch: 88, Loss: 263.1856105700135\n",
      "Epoch: 89, Loss: 246.83951055258512\n",
      "Epoch: 90, Loss: 227.96035376563668\n",
      "Epoch: 91, Loss: 219.92862698435783\n",
      "Epoch: 92, Loss: 209.193866902031\n",
      "Epoch: 93, Loss: 202.41089314222336\n",
      "Epoch: 94, Loss: 188.23828472197056\n",
      "Epoch: 95, Loss: 177.7424932308495\n",
      "Epoch: 96, Loss: 168.89461608650163\n",
      "Epoch: 97, Loss: 167.39105401560664\n",
      "Epoch: 98, Loss: 153.68403748888522\n",
      "Epoch: 99, Loss: 150.4624449312687\n",
      "Epoch: 100, Loss: 138.87970616132952\n"
     ]
    }
   ],
   "execution_count": 7
  },
  {
   "metadata": {
    "ExecuteTime": {
     "end_time": "2024-06-16T23:50:54.894923Z",
     "start_time": "2024-06-16T23:50:54.363246Z"
    }
   },
   "cell_type": "code",
   "source": [
    "model.eval()\n",
    "correct = 0\n",
    "total = 0\n",
    "all_labels = []\n",
    "all_predictions = []\n",
    "\n",
    "with torch.no_grad():\n",
    "    for inputs, labels in val_loader:\n",
    "        outputs = model(inputs)\n",
    "        _, predicted = torch.max(outputs, 1)\n",
    "        total += labels.size(0)\n",
    "        correct += (predicted == labels).sum().item()\n",
    "        \n",
    "        all_labels.extend(labels.cpu().numpy())\n",
    "        all_predictions.extend(predicted.cpu().numpy())\n",
    "\n",
    "print(f'test: {correct / total}')\n",
    "\n",
    "os.makedirs('results', exist_ok=True)\n",
    "with open('results/accuracy.txt', 'w') as f:\n",
    "    f.write(f'test: {correct / total}\\n')"
   ],
   "id": "1e8055e70d2c7658",
   "outputs": [
    {
     "name": "stdout",
     "output_type": "stream",
     "text": [
      "test: 0.6208333333333333\n"
     ]
    }
   ],
   "execution_count": 26
  },
  {
   "metadata": {
    "ExecuteTime": {
     "end_time": "2024-06-16T23:52:26.281660Z",
     "start_time": "2024-06-16T23:52:26.067508Z"
    }
   },
   "cell_type": "code",
   "source": [
    "class_mapping = {\n",
    "    0: 'bending',\n",
    "    1: 'crawling',\n",
    "    2: 'lying',\n",
    "    3: 'sitting',\n",
    "    4: 'standing',\n",
    "}\n",
    "\n",
    "\n",
    "cm = confusion_matrix(all_labels, all_predictions)\n",
    "cm_labels = [class_mapping[i] for i in range(len(class_mapping))]\n",
    "\n",
    "plt.figure(figsize=(10, 8))\n",
    "sns.heatmap(cm, annot=True, fmt='d', cmap='Blues', xticklabels=cm_labels, yticklabels=cm_labels)\n",
    "plt.xlabel('Predicted')\n",
    "plt.ylabel('Actual')\n",
    "plt.title('Confusion Matrix')\n",
    "plt.savefig('results/confusion_matrix.png')\n",
    "plt.show()"
   ],
   "id": "fdf1c43ed2be5795",
   "outputs": [
    {
     "data": {
      "text/plain": [
       "<Figure size 1000x800 with 2 Axes>"
      ],
      "image/png": "[encoded data removed]"
     },
     "metadata": {},
     "output_type": "display_data"
    }
   ],
   "execution_count": 31
  }
 ],
 "metadata": {
  "kernelspec": {
   "display_name": "Python 3",
   "language": "python",
   "name": "python3"
  },
  "language_info": {
   "codemirror_mode": {
    "name": "ipython",
    "version": 2
   },
   "file_extension": ".py",
   "mimetype": "text/x-python",
   "name": "python",
   "nbconvert_exporter": "python",
   "pygments_lexer": "ipython2",
   "version": "2.7.6"
  }
 },
 "nbformat": 4,
 "nbformat_minor": 5
}
